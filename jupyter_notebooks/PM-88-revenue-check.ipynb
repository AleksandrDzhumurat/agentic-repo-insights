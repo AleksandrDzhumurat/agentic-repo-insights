{
 "cells": [
  {
   "cell_type": "code",
   "execution_count": 2,
   "id": "25694be0-ebd9-451f-a8ee-6b6e75e256f1",
   "metadata": {},
   "outputs": [
    {
     "name": "stdout",
     "output_type": "stream",
     "text": [
      "The autoreload extension is already loaded. To reload it, use:\n",
      "  %reload_ext autoreload\n"
     ]
    },
    {
     "data": {
      "text/html": [
       "<div>\n",
       "<style scoped>\n",
       "    .dataframe tbody tr th:only-of-type {\n",
       "        vertical-align: middle;\n",
       "    }\n",
       "\n",
       "    .dataframe tbody tr th {\n",
       "        vertical-align: top;\n",
       "    }\n",
       "\n",
       "    .dataframe thead th {\n",
       "        text-align: right;\n",
       "    }\n",
       "</style>\n",
       "<table border=\"1\" class=\"dataframe\">\n",
       "  <thead>\n",
       "    <tr style=\"text-align: right;\">\n",
       "      <th></th>\n",
       "      <th>index</th>\n",
       "      <th>content</th>\n",
       "      <th>preview</th>\n",
       "      <th>length</th>\n",
       "      <th>metadata.source</th>\n",
       "      <th>metadata.start_index</th>\n",
       "      <th>file_name</th>\n",
       "    </tr>\n",
       "  </thead>\n",
       "  <tbody>\n",
       "    <tr>\n",
       "      <th>0</th>\n",
       "      <td>0</td>\n",
       "      <td>data() {\\n    return {\\n      DEFAULT_ORDER: 1...</td>\n",
       "      <td>data() {\\n    return {\\n      DEFAULT_ORDER: 1...</td>\n",
       "      <td>441</td>\n",
       "      <td>/app/data/docs/src/views/apps/tg-stars/TGStars...</td>\n",
       "      <td>3178</td>\n",
       "      <td>TGStarsView.vue</td>\n",
       "    </tr>\n",
       "    <tr>\n",
       "      <th>1</th>\n",
       "      <td>1</td>\n",
       "      <td>data() {\\n    return {\\n      columnsAll: colu...</td>\n",
       "      <td>data() {\\n    return {\\n      columnsAll: colu...</td>\n",
       "      <td>397</td>\n",
       "      <td>/app/data/docs/src/views/apps/aml/all.vue</td>\n",
       "      <td>6908</td>\n",
       "      <td>all.vue</td>\n",
       "    </tr>\n",
       "    <tr>\n",
       "      <th>2</th>\n",
       "      <td>2</td>\n",
       "      <td>\"description\": \"Basic info, like name, phone, ...</td>\n",
       "      <td>\"description\": \"Basic info, like name, phone, ...</td>\n",
       "      <td>497</td>\n",
       "      <td>/app/data/docs/src/libs/i18n/locales/ru.json</td>\n",
       "      <td>-1</td>\n",
       "      <td>ru.json</td>\n",
       "    </tr>\n",
       "    <tr>\n",
       "      <th>3</th>\n",
       "      <td>3</td>\n",
       "      <td>fetchUserById: 'users/fetchUserById',\\n    }),</td>\n",
       "      <td>fetchUserById: 'users/fetchUserById',\\n    }),</td>\n",
       "      <td>45</td>\n",
       "      <td>/app/data/docs/src/views/apps/users/UserView.vue</td>\n",
       "      <td>-1</td>\n",
       "      <td>UserView.vue</td>\n",
       "    </tr>\n",
       "    <tr>\n",
       "      <th>4</th>\n",
       "      <td>4</td>\n",
       "      <td>\"Analytics\": \"Analytics\",\\n  \"Apps &amp; Pages\": \"...</td>\n",
       "      <td>\"Analytics\": \"Analytics\",\\n  \"Apps &amp; Pages\": \"...</td>\n",
       "      <td>347</td>\n",
       "      <td>/app/data/docs/src/libs/i18n/locales/ru.json</td>\n",
       "      <td>3618</td>\n",
       "      <td>ru.json</td>\n",
       "    </tr>\n",
       "  </tbody>\n",
       "</table>\n",
       "</div>"
      ],
      "text/plain": [
       "   index                                            content  \\\n",
       "0      0  data() {\\n    return {\\n      DEFAULT_ORDER: 1...   \n",
       "1      1  data() {\\n    return {\\n      columnsAll: colu...   \n",
       "2      2  \"description\": \"Basic info, like name, phone, ...   \n",
       "3      3     fetchUserById: 'users/fetchUserById',\\n    }),   \n",
       "4      4  \"Analytics\": \"Analytics\",\\n  \"Apps & Pages\": \"...   \n",
       "\n",
       "                                             preview  length  \\\n",
       "0  data() {\\n    return {\\n      DEFAULT_ORDER: 1...     441   \n",
       "1  data() {\\n    return {\\n      columnsAll: colu...     397   \n",
       "2  \"description\": \"Basic info, like name, phone, ...     497   \n",
       "3     fetchUserById: 'users/fetchUserById',\\n    }),      45   \n",
       "4  \"Analytics\": \"Analytics\",\\n  \"Apps & Pages\": \"...     347   \n",
       "\n",
       "                                     metadata.source  metadata.start_index  \\\n",
       "0  /app/data/docs/src/views/apps/tg-stars/TGStars...                  3178   \n",
       "1          /app/data/docs/src/views/apps/aml/all.vue                  6908   \n",
       "2       /app/data/docs/src/libs/i18n/locales/ru.json                    -1   \n",
       "3   /app/data/docs/src/views/apps/users/UserView.vue                    -1   \n",
       "4       /app/data/docs/src/libs/i18n/locales/ru.json                  3618   \n",
       "\n",
       "         file_name  \n",
       "0  TGStarsView.vue  \n",
       "1          all.vue  \n",
       "2          ru.json  \n",
       "3     UserView.vue  \n",
       "4          ru.json  "
      ]
     },
     "execution_count": 2,
     "metadata": {},
     "output_type": "execute_result"
    }
   ],
   "source": [
    "%load_ext autoreload\n",
    "%autoreload 2\n",
    "\n",
    "import requests\n",
    "import pandas as pd\n",
    "\n",
    "response = requests.post(\n",
    "    \"http://localhost:8080/query\",\n",
    "    headers={\"Content-Type\": \"application/json\"},\n",
    "    json={\n",
    "        \"query\": \"what database does this app use?\",\n",
    "        \"max_results\": 7\n",
    "    }\n",
    ")\n",
    "\n",
    "response_df = pd.json_normalize(response.json()['results'])\n",
    "response_df['file_name'] = response_df['metadata.source'].apply(lambda x: x.split('/')[-1])\n",
    "response_df.head()"
   ]
  },
  {
   "cell_type": "code",
   "execution_count": 9,
   "id": "cc2954cb-e8a8-4563-b47d-fe733f0ddb85",
   "metadata": {},
   "outputs": [
    {
     "data": {
      "text/plain": [
       "'/app/data/docs/src/views/apps/tg-stars/TGStarsView.vue'"
      ]
     },
     "execution_count": 9,
     "metadata": {},
     "output_type": "execute_result"
    }
   ],
   "source": [
    "# [i for i in response_df.to_dict(orient='records') if i['metadata.source'] == \n"
   ]
  },
  {
   "cell_type": "code",
   "execution_count": 4,
   "id": "869b9e34-e9fb-4ec7-8136-7c0b0f99937a",
   "metadata": {},
   "outputs": [
    {
     "data": {
      "text/plain": [
       "'/app/data/docs/jsconfig.json'"
      ]
     },
     "execution_count": 4,
     "metadata": {},
     "output_type": "execute_result"
    }
   ],
   "source": [
    "meta_index[0]['source']"
   ]
  },
  {
   "cell_type": "code",
   "execution_count": 10,
   "id": "5b1ab16c-8f05-40e5-abd7-8831eb39a8da",
   "metadata": {},
   "outputs": [
    {
     "name": "stdout",
     "output_type": "stream",
     "text": [
      "Loaded from /Users/adzhumurat/PycharmProjects/agentic-repo-insights/data/plaintext_index/e66ffe2a423c76906f1fc18c49f260df.json\n",
      "Loaded from /Users/adzhumurat/PycharmProjects/fintopio-admin-new/src/views/apps/tg-stars/TGStarsView.vue\n",
      "<template>\n",
      "  <div>\n",
      "    <AppTable\n",
      "      class=\"select-last-row\"\n",
      "      :rows=\"items.value\"\n",
      "      :colu\n"
     ]
    }
   ],
   "source": [
    "import os\n",
    "from update_index import load_json, load_text\n",
    "\n",
    "data_version = 'e66ffe2a423c76906f1fc18c49f260df'\n",
    "meta_index_path = os.path.join(os.environ['DATA_DIR'], 'plaintext_index', f'{data_version}.json')\n",
    "meta_index = load_json(meta_index_path)\n",
    "file_path =response_df.iloc[0]['metadata.source']\n",
    "\n",
    "ROOT_DIR_PREFIX = '/Users/adzhumurat/PycharmProjects/fintopio-admin-new'\n",
    "file_content = load_text(file_path.replace('/app/data/docs', ROOT_DIR_PREFIX))\n",
    "print(file_content[:100])"
   ]
  },
  {
   "cell_type": "code",
   "execution_count": 11,
   "id": "f26088f1-9561-4113-91f5-54b06393ba28",
   "metadata": {},
   "outputs": [
    {
     "ename": "ModuleNotFoundError",
     "evalue": "No module named 'google.genai'",
     "output_type": "error",
     "traceback": [
      "\u001b[31m---------------------------------------------------------------------------\u001b[39m",
      "\u001b[31mModuleNotFoundError\u001b[39m                       Traceback (most recent call last)",
      "\u001b[36mCell\u001b[39m\u001b[36m \u001b[39m\u001b[32mIn[11]\u001b[39m\u001b[32m, line 1\u001b[39m\n\u001b[32m----> \u001b[39m\u001b[32m1\u001b[39m \u001b[38;5;28;01mfrom\u001b[39;00m\u001b[38;5;250m \u001b[39m\u001b[34;01mllm\u001b[39;00m\u001b[38;5;250m \u001b[39m\u001b[38;5;28;01mimport\u001b[39;00m score_dialog_googleai\n\u001b[32m      3\u001b[39m system_prompt = \u001b[33m\"\"\"\u001b[39m\n\u001b[32m      4\u001b[39m \u001b[33mYou are an expert data analyst who writes clear, efficient SQL queries based on natural language descriptions. \u001b[39m\n\u001b[32m      5\u001b[39m \u001b[33mYuo are analyzing vue application that visualises data from MSSQL\u001b[39m\n\u001b[32m      6\u001b[39m \u001b[33mOnly return the SQL code — do not include explanations.\u001b[39m\n\u001b[32m      7\u001b[39m \u001b[33m\"\"\"\u001b[39m\n\u001b[32m      9\u001b[39m \u001b[38;5;28;01mdef\u001b[39;00m\u001b[38;5;250m \u001b[39m\u001b[34mgenerate_prompt\u001b[39m(file_text):\n",
      "\u001b[36mFile \u001b[39m\u001b[32m~/PycharmProjects/agentic-repo-insights/src/llm.py:5\u001b[39m\n\u001b[32m      2\u001b[39m \u001b[38;5;28;01mfrom\u001b[39;00m\u001b[38;5;250m \u001b[39m\u001b[34;01mdataclasses\u001b[39;00m\u001b[38;5;250m \u001b[39m\u001b[38;5;28;01mimport\u001b[39;00m dataclass\n\u001b[32m      4\u001b[39m \u001b[38;5;28;01mimport\u001b[39;00m\u001b[38;5;250m \u001b[39m\u001b[34;01mbackoff\u001b[39;00m\n\u001b[32m----> \u001b[39m\u001b[32m5\u001b[39m \u001b[38;5;28;01mfrom\u001b[39;00m\u001b[38;5;250m \u001b[39m\u001b[34;01mgoogle\u001b[39;00m\u001b[34;01m.\u001b[39;00m\u001b[34;01mgenai\u001b[39;00m\u001b[38;5;250m \u001b[39m\u001b[38;5;28;01mimport\u001b[39;00m Client, types\n\u001b[32m      7\u001b[39m g_client = Client(api_key=os.environ[\u001b[33m\"\u001b[39m\u001b[33mGOOGLE_API_KEY\u001b[39m\u001b[33m\"\u001b[39m])\n\u001b[32m      9\u001b[39m \u001b[38;5;129m@dataclass\u001b[39m\n\u001b[32m     10\u001b[39m \u001b[38;5;28;01mclass\u001b[39;00m\u001b[38;5;250m \u001b[39m\u001b[34;01mGenAIResponse\u001b[39;00m:\n",
      "\u001b[31mModuleNotFoundError\u001b[39m: No module named 'google.genai'"
     ]
    }
   ],
   "source": [
    "from llm import score_dialog_googleai\n",
    "\n",
    "system_prompt = \"\"\"\n",
    "You are an expert data analyst who writes clear, efficient SQL queries based on natural language descriptions. \n",
    "Yuo are analyzing vue application that visualises data from MSSQL\n",
    "Only return the SQL code — do not include explanations.\n",
    "\"\"\"\n",
    "\n",
    "def generate_prompt(file_text):\n",
    "    user_prompt = f\"\"\"\n",
    "    Generate aall SQL queries you can find in this file below\n",
    "    \n",
    "    File:\n",
    "    \n",
    "    {file_text}\n",
    "    \"\"\"\n",
    "    return user_prompt\n",
    "\n",
    "res = score_dialog_googleai(user_prompt=generate_prompt(file_content), system_prompt=system_prompt)\n",
    "print(res)"
   ]
  },
  {
   "cell_type": "code",
   "execution_count": null,
   "id": "6491ed5e-016e-4ee2-aefe-2d683d34ed9a",
   "metadata": {},
   "outputs": [],
   "source": []
  }
 ],
 "metadata": {
  "kernelspec": {
   "display_name": "Python 3 (ipykernel)",
   "language": "python",
   "name": "python3"
  },
  "language_info": {
   "codemirror_mode": {
    "name": "ipython",
    "version": 3
   },
   "file_extension": ".py",
   "mimetype": "text/x-python",
   "name": "python",
   "nbconvert_exporter": "python",
   "pygments_lexer": "ipython3",
   "version": "3.12.8"
  }
 },
 "nbformat": 4,
 "nbformat_minor": 5
}
